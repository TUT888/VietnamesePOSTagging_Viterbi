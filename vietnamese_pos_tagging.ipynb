{
 "cells": [
  {
   "cell_type": "markdown",
   "metadata": {},
   "source": [
    "# Libraries"
   ]
  },
  {
   "cell_type": "code",
   "execution_count": 1,
   "metadata": {},
   "outputs": [],
   "source": [
    "#pip install underthesea"
   ]
  },
  {
   "cell_type": "code",
   "execution_count": 1,
   "metadata": {},
   "outputs": [
    {
     "data": {
      "text/plain": [
       "'1.1.5'"
      ]
     },
     "execution_count": 1,
     "metadata": {},
     "output_type": "execute_result"
    }
   ],
   "source": [
    "import underthesea\n",
    "underthesea.__version__"
   ]
  },
  {
   "cell_type": "code",
   "execution_count": 2,
   "metadata": {
    "id": "FH7AzU__jt54"
   },
   "outputs": [],
   "source": [
    "import math\n",
    "from collections import Counter\n",
    "\n",
    "from underthesea import word_sent #word_tokenize\n",
    "from underthesea import pos_tag"
   ]
  },
  {
   "cell_type": "markdown",
   "metadata": {
    "id": "8dYpCnKu1a83",
    "tags": []
   },
   "source": [
    "# I. Xây dựng chương trình gán nhãn từ loại cho tiếng Việt"
   ]
  },
  {
   "cell_type": "markdown",
   "metadata": {},
   "source": [
    "## a. Xây dựng chương trình"
   ]
  },
  {
   "cell_type": "markdown",
   "metadata": {
    "id": "No15emxE1a9B"
   },
   "source": [
    "### Xử lý dữ liệu huấn luyện"
   ]
  },
  {
   "cell_type": "code",
   "execution_count": 3,
   "metadata": {
    "colab": {
     "base_uri": "https://localhost:8080/"
    },
    "id": "jFscXctw1a8_",
    "outputId": "938570cd-a6ab-4953-909e-4efdda78ad7c"
   },
   "outputs": [
    {
     "name": "stdout",
     "output_type": "stream",
     "text": [
      "16986\n"
     ]
    }
   ],
   "source": [
    "filename = 'vi_train.pos'\n",
    "with open(filename, encoding='utf8') as f:\n",
    "    lines = f.readlines()\n",
    "\n",
    "print(len(lines))"
   ]
  },
  {
   "cell_type": "code",
   "execution_count": 4,
   "metadata": {
    "colab": {
     "base_uri": "https://localhost:8080/"
    },
    "id": "jXGpBvDC1a9C",
    "outputId": "91ecd35c-7deb-45ee-9af8-1d7952abb9f3"
   },
   "outputs": [
    {
     "name": "stdout",
     "output_type": "stream",
     "text": [
      "8303\n"
     ]
    }
   ],
   "source": [
    "train_data = []\n",
    "list_word = []\n",
    "for line in lines:\n",
    "    words = line.split()\n",
    "    sent = []\n",
    "    ignore = False\n",
    "    for w in words:\n",
    "        tmp = w.split('/')\n",
    "\n",
    "        if ( len(tmp)!=2 ):\n",
    "            ignore = True\n",
    "            break\n",
    "        sent.append((tmp[0], tmp[1].upper()))\n",
    "        list_word.append(tmp[0])\n",
    "    if ignore:\n",
    "        continue\n",
    "    train_data.append(sent)\n",
    "\n",
    "list_word = set(list_word) #bỏ những từ bị trùng\n",
    "list_word = list(list_word)\n",
    "\n",
    "train_data = [t for t in train_data if t!=[]] #bỏ các dòng rỗng []\n",
    "print(len(train_data))"
   ]
  },
  {
   "cell_type": "code",
   "execution_count": 5,
   "metadata": {
    "id": "pa69TGUK1a9D"
   },
   "outputs": [],
   "source": [
    "def get_ngram(sent):\n",
    "    tag_gram = []\n",
    "    tagtag_gram = []\n",
    "    tagword_gram = []\n",
    "    for i in range(len(sent)):\n",
    "        if i==0:\n",
    "            tag_gram.append('T0')\n",
    "            tagtag = 'T0' + '_' + sent[i][1]\n",
    "        else:\n",
    "            tagtag = sent[i-1][1] + '_' + sent[i][1]\n",
    "        tag_gram.append(sent[i][1])\n",
    "        tagword = sent[i][1] + '_' + sent[i][0] \n",
    "        tagtag_gram.append(tagtag)\n",
    "        tagword_gram.append(tagword)\n",
    "    return tag_gram, tagtag_gram, tagword_gram"
   ]
  },
  {
   "cell_type": "code",
   "execution_count": 6,
   "metadata": {
    "id": "TMR0AcqC1a9D"
   },
   "outputs": [],
   "source": [
    "tag_gram_all = []\n",
    "tagtag_gram_all = []\n",
    "tagword_gram_all = []\n",
    "\n",
    "for i in range(len(train_data)):\n",
    "    tag_gram, tagtag_gram, tagword_gram = get_ngram(train_data[i])\n",
    "    tag_gram_all.extend(tag_gram)\n",
    "    tagtag_gram_all.extend(tagtag_gram)\n",
    "    tagword_gram_all.extend(tagword_gram)"
   ]
  },
  {
   "cell_type": "code",
   "execution_count": 7,
   "metadata": {
    "colab": {
     "base_uri": "https://localhost:8080/"
    },
    "id": "zvdn_zLq1a9E",
    "outputId": "2b3af756-fd6c-4e58-e0b6-2dffaafb9a62"
   },
   "outputs": [
    {
     "name": "stdout",
     "output_type": "stream",
     "text": [
      "[('N', 44889), ('V', 37178), ('R', 13931), ('E', 11829), ('A', 11763), (',', 10305), ('T0', 8303), ('P', 8157), ('NP', 7438), ('M', 7031), ('.', 7009), ('C', 6921), ('NC', 4775), ('L', 3434), ('“', 2272), ('”', 2228), ('T', 1255), ('...', 1215), (':', 1205), ('-', 1188)]\n",
      "\n",
      "[('V_N', 9816), ('N_V', 9538), ('N_N', 8033), ('V_V', 7076), ('R_V', 6916), ('E_N', 5862), ('N_A', 4117), ('V_E', 3500), ('N_,', 3270), ('N_E', 3249), ('M_N', 3244), ('V_R', 3216), ('N_R', 3081), (',_N', 2743), ('NC_N', 2666), ('L_N', 2594), ('P_V', 2573), ('N_NP', 2438), ('V_A', 2404), ('N_P', 2363)]\n",
      "\n",
      "[(',_,', 10304), ('._.', 7009), ('“_“', 2272), ('”_”', 2226), ('E_của', 1996), ('M_một', 1847), ('C_và', 1702), ('V_có', 1645), ('R_đã', 1553), ('V_là', 1474), ('R_không', 1473), ('L_những', 1439), ('N_người', 1285), ('..._...', 1215), (':_:', 1205), ('-_-', 1188), ('E_trong', 1043), ('R_cũng', 966), ('E_với', 956), ('P_tôi', 950)]\n"
     ]
    }
   ],
   "source": [
    "tag_counter = Counter()\n",
    "tag_counter.update(tag_gram_all)\n",
    "print(tag_counter.most_common(20))\n",
    "\n",
    "print()\n",
    "tagtag_counter = Counter()\n",
    "tagtag_counter.update(tagtag_gram_all)\n",
    "print(tagtag_counter.most_common(20))\n",
    "\n",
    "print()\n",
    "tagword_counter = Counter()\n",
    "tagword_counter.update(tagword_gram_all)\n",
    "print(tagword_counter.most_common(20))"
   ]
  },
  {
   "cell_type": "markdown",
   "metadata": {
    "id": "l19IiM3F1a9F"
   },
   "source": [
    "### Tính tham số Model"
   ]
  },
  {
   "cell_type": "code",
   "execution_count": 8,
   "metadata": {
    "id": "Of1CSWT31a9F"
   },
   "outputs": [],
   "source": [
    "#Laplace smoothing\n",
    "anpha = 0.001\n",
    "V = len(tag_counter)"
   ]
  },
  {
   "cell_type": "code",
   "execution_count": 9,
   "metadata": {
    "id": "zowDJiR01a9F"
   },
   "outputs": [],
   "source": [
    "### P(tj|ti) ->log\n",
    "def cal_logP_tt(tag1, tag2):\n",
    "    tag1_tag2 = tag1 + '_' + tag2\n",
    "    P = (tagtag_counter[tag1_tag2] + anpha)/(tag_counter[tag1] + V*anpha)\n",
    "    return math.log(P)\n",
    "\n",
    "logP_tagtag = {}\n",
    "for t1_t2 in tagtag_counter:\n",
    "    t1 = t1_t2.split('_')[0]\n",
    "    t2 = t1_t2.split('_')[1]\n",
    "    logP = cal_logP_tt(t1, t2)\n",
    "    logP_tagtag[t1_t2] = logP"
   ]
  },
  {
   "cell_type": "code",
   "execution_count": 10,
   "metadata": {
    "id": "3rMPeJqg1a9G"
   },
   "outputs": [],
   "source": [
    "### P(wi|tj) ->log\n",
    "def cal_logP_tw(tag, word):\n",
    "    tag_word = tag + '_' + word\n",
    "    P = (tagword_counter[tag_word] + anpha)/(tag_counter[tag] + V*anpha)\n",
    "    return math.log(P)\n",
    "\n",
    "logP_tagword = {}\n",
    "for t_w in tagword_counter:\n",
    "    t = t_w.split('_')[0]\n",
    "    w = t_w.split('_')[1]\n",
    "    logP = cal_logP_tw(t, w)\n",
    "    logP_tagword[t_w] = logP"
   ]
  },
  {
   "cell_type": "markdown",
   "metadata": {
    "id": "hxrPZxkV1a9G"
   },
   "source": [
    "### Viterbi Algorithm"
   ]
  },
  {
   "cell_type": "code",
   "execution_count": 11,
   "metadata": {
    "colab": {
     "base_uri": "https://localhost:8080/"
    },
    "id": "MDsHZo2l1a9G",
    "outputId": "05370b25-2926-43a2-a2ce-25e824c35df2"
   },
   "outputs": [
    {
     "name": "stdout",
     "output_type": "stream",
     "text": [
      "['E', 'N', 'V', ',', 'M', 'R', 'NP', '.', 'A', '...', 'P', '-', 'NY', '“', '”', ':', 'L', 'C', 'NC', 'X', '(', ')', 'NU', 'NB', '\"', 'T', '!', '&', 'S', ';', 'AP', '?', 'B', '*', '', 'I', '…', 'Y', ']', '>', 'VY', 'VB', '.)', 'AB', '’', '~', 'EB', '):', 'H', '+']\n"
     ]
    }
   ],
   "source": [
    "list_tag = []\n",
    "for tag in tag_counter:\n",
    "    list_tag.append(tag)\n",
    "\n",
    "#Danh sách tất cả các tag trừ T0\n",
    "list_tag.remove('T0')\n",
    "print(list_tag)"
   ]
  },
  {
   "cell_type": "code",
   "execution_count": 12,
   "metadata": {
    "id": "bqRU7zXdv-A1"
   },
   "outputs": [],
   "source": [
    "#sent: một câu nhập vào dưới dạng list các từ\n",
    "#sent = [w1, w2, w3, w4,...]\n",
    "\n",
    "#paths: lưu chuỗi các nhãn có thể xảy ra tương ứng với các từ trong sent\n",
    "#paths = [[t0, t1, t2, t1], (i = 1)\n",
    "#         [t0, t2, t1, t2], (i = 2)\n",
    "#         [.............]]\n",
    "\n",
    "#log_values: lưu lại giá trị tốt nhất đã tính trước đó (tương ứng với từng chuỗi các nhãn đã lưu ở paths)\n",
    "#log_values = [logP1, (i = 1)\n",
    "#              logP2, (i = 2)\n",
    "#              ...]\n",
    "\n",
    "def viterbi_algo(sent):\n",
    "    paths = []\n",
    "    log_values = []\n",
    "    for i in range(len(list_tag)):\n",
    "        paths.append(['T0'])\n",
    "        log_values.append(0)\n",
    "\n",
    "    for word in sent:\n",
    "        #Tránh làm mất giá trị path và log cũ khi đang xét các tag\n",
    "        new_path = []\n",
    "        new_values = []\n",
    "\n",
    "        #dành cho điều kiện biến temp ở dưới\n",
    "        #tránh trường hợp list_v rỗng\n",
    "        num_tagword = 0\n",
    "        for tag in list_tag:\n",
    "            x_word = tag + '_' + word\n",
    "            if x_word in logP_tagword.keys():\n",
    "                num_tagword += 1\n",
    "\n",
    "        for i in range(len(list_tag)): #duyệt tag cho từ tiếp theo\n",
    "            tag_curr = list_tag[i]\n",
    "            list_v = [] #(paths[j] có giá trị log tương ứng ở list_v[j])\n",
    "\n",
    "            #Chỉ duyệt các tag có khả năng xảy ra với word\n",
    "            temp = tag_curr + '_' + word\n",
    "            if temp not in logP_tagword.keys() and num_tagword!=0:\n",
    "                continue\n",
    "\n",
    "            for j in range(len(paths)): #duyệt qua các kết quả cũ\n",
    "                tag_pre = paths[j][-1]\n",
    "                tag_tag = tag_pre + '_' + tag_curr\n",
    "                tag_word = tag_curr + '_' + word\n",
    "\n",
    "                if tag_tag in logP_tagtag.keys():\n",
    "                    logP1 = logP_tagtag[tag_tag]\n",
    "                else:\n",
    "                    logP1 = cal_logP_tt(tag_pre, tag_curr)\n",
    "\n",
    "                if tag_word in logP_tagword.keys():\n",
    "                    logP2 = logP_tagword[tag_word]\n",
    "                else:\n",
    "                    logP2 = cal_logP_tw(tag_curr, word)\n",
    "\n",
    "                #Tính tổng logP(wi|ti) và logP(ti|tj)\n",
    "                #và cộng thêm giá trị log_values[j] chứa giá trị tốt nhất đã lưu trước đó\n",
    "                logP = log_values[j] + logP1 + logP2\n",
    "                #append vao list v\n",
    "                list_v.append(logP)\n",
    "\n",
    "            #tìm ra vị trí chứa giá trị tốt nhất hiện tại\n",
    "            max_index = 0\n",
    "            for index in range(len(list_v)):\n",
    "                if (list_v[index] > list_v[max_index]) and (list_v[index]!=0):\n",
    "                    max_index = index\n",
    "\n",
    "            #lưu lại giá trị tốt nhất kèm theo tag tương ứng\n",
    "            p = paths[max_index].copy()\n",
    "            p.append(tag_curr)\n",
    "            new_path.append(p)\n",
    "            new_values.append(list_v[max_index])\n",
    "        paths = new_path\n",
    "        log_values = new_values\n",
    "\n",
    "    index = 0\n",
    "    for i in range(len(log_values)):\n",
    "        if (log_values[i]>log_values[index]):\n",
    "            index = i\n",
    "\n",
    "    paths[index].remove('T0')\n",
    "    return paths[index]"
   ]
  },
  {
   "cell_type": "markdown",
   "metadata": {
    "id": "wzsU6Jt81a9I"
   },
   "source": [
    "## b. Đánh giá độ chính xác trên tập test"
   ]
  },
  {
   "cell_type": "code",
   "execution_count": 13,
   "metadata": {
    "colab": {
     "base_uri": "https://localhost:8080/"
    },
    "id": "uHLhd1521a9I",
    "outputId": "8f9a2164-ba9b-4e96-8022-706340087b67"
   },
   "outputs": [
    {
     "name": "stdout",
     "output_type": "stream",
     "text": [
      "1032\n"
     ]
    }
   ],
   "source": [
    "filename = 'vi_test.pos'\n",
    "with open(filename, encoding='utf8') as f:\n",
    "    lines = f.readlines()\n",
    "\n",
    "#------------------------------------------#\n",
    "\n",
    "test_data = []\n",
    "for line in lines:\n",
    "    words = line.split()\n",
    "    sent = []\n",
    "    ignore = False\n",
    "    for w in words:\n",
    "        tmp = w.split('/')\n",
    "        if ( len(tmp)!=2 ):\n",
    "            ignore = True\n",
    "            break\n",
    "        sent.append((tmp[0], tmp[1].upper()))\n",
    "    if ignore:\n",
    "        continue\n",
    "    test_data.append(sent)\n",
    "\n",
    "test_data = [t for t in test_data if t!=[]]\n",
    "print(len(test_data))"
   ]
  },
  {
   "cell_type": "code",
   "execution_count": 14,
   "metadata": {
    "colab": {
     "base_uri": "https://localhost:8080/"
    },
    "id": "80mkOcHE1a9J",
    "outputId": "a9f30e59-b65e-48e5-94ad-b872b848d25b"
   },
   "outputs": [
    {
     "name": "stdout",
     "output_type": "stream",
     "text": [
      "1032\n"
     ]
    }
   ],
   "source": [
    "y_true = []\n",
    "#y_true = [tags_sent1, tags_sent2,...]\n",
    "#tags_sent1 = tag1, tag2,...\n",
    "x_test = [] \n",
    "#x_test = [sentence1, sentence2,...]\n",
    "#sentence1 = [word1, word2,...]\n",
    "\n",
    "for sent in test_data:\n",
    "    s = []\n",
    "    for data in sent:\n",
    "        s.append(data[0])\n",
    "        y_true.append(data[1])\n",
    "    x_test.append(s)\n",
    "\n",
    "print(len(test_data))\n",
    "test_data = [t for t in test_data if t!=[]]"
   ]
  },
  {
   "cell_type": "code",
   "execution_count": 15,
   "metadata": {
    "id": "IQJrj8vU1a9J"
   },
   "outputs": [],
   "source": [
    "#Gắn nhãn bằng thuật toán Viterbi\n",
    "y_pred = []\n",
    "for sent in x_test:\n",
    "    tag = viterbi_algo(sent)\n",
    "    y_pred.extend(tag)"
   ]
  },
  {
   "cell_type": "code",
   "execution_count": 16,
   "metadata": {
    "colab": {
     "base_uri": "https://localhost:8080/"
    },
    "id": "Na4Y1MJD1a9J",
    "outputId": "bd9862cf-cbab-4683-d25b-6599612efa45"
   },
   "outputs": [
    {
     "name": "stdout",
     "output_type": "stream",
     "text": [
      "22758\n",
      "22758\n"
     ]
    }
   ],
   "source": [
    "print(len(y_true))\n",
    "print(len(y_pred))"
   ]
  },
  {
   "cell_type": "code",
   "execution_count": 17,
   "metadata": {
    "id": "egcl39w62ngV"
   },
   "outputs": [],
   "source": [
    "def cal_accurary(true_values, pred_values):\n",
    "    if ( len(true_values)!=len(pred_values) ):\n",
    "        return 0\n",
    "    count = 0\n",
    "    for i in range(len(true_values)):\n",
    "        if ( true_values[i]==pred_values[i] ):\n",
    "            count += 1\n",
    "    return count/len(true_values)"
   ]
  },
  {
   "cell_type": "code",
   "execution_count": 18,
   "metadata": {
    "colab": {
     "base_uri": "https://localhost:8080/"
    },
    "id": "7khaW80O1a9K",
    "outputId": "0e627d79-766a-4aec-fd2b-72a77f9c0efc"
   },
   "outputs": [
    {
     "name": "stdout",
     "output_type": "stream",
     "text": [
      "Accuracy: 0.8918182617101679\n"
     ]
    }
   ],
   "source": [
    "#Tính độ chính xác nhãn vừa tìm được so với nhãn đúng\n",
    "print('Accuracy: ', end='')\n",
    "print(cal_accurary(y_true, y_pred))"
   ]
  },
  {
   "cell_type": "markdown",
   "metadata": {
    "id": "mywZMIVT1a9K"
   },
   "source": [
    "## c. Input vào một câu tiếng Việt, cho ra nhãn của từng từ trong câu"
   ]
  },
  {
   "cell_type": "code",
   "execution_count": 19,
   "metadata": {
    "id": "92Y361VvmyUk"
   },
   "outputs": [],
   "source": [
    "def POS_tagger(sentence):\n",
    "    word_segment = word_sent(sentence, format=\"text\")\n",
    "    s = word_segment.split() #cho đúng với format đầu vào hàm viterbi_algo\n",
    "    paths = viterbi_algo(s)\n",
    "\n",
    "    result = ''\n",
    "    for i in range(len(s)):\n",
    "        result += s[i] + '/' + paths[i] + ' '\n",
    "    return result"
   ]
  },
  {
   "cell_type": "code",
   "execution_count": 20,
   "metadata": {
    "colab": {
     "base_uri": "https://localhost:8080/"
    },
    "id": "PqSv7TXV32nd",
    "outputId": "bee06406-8704-445e-d056-5ba31dbadc5f"
   },
   "outputs": [
    {
     "name": "stdout",
     "output_type": "stream",
     "text": [
      "Dù/C khá/R đắt/A nhưng/C tôi/P vẫn/R đồng_ý/V ./. \n",
      "Mình/P không/R nuôi/V chúng_nó/P được/R ./. \n",
      "Nhà_tôi/* ở/V trên/E tầng/N năm/N ./. \n"
     ]
    }
   ],
   "source": [
    "sent1 = 'Dù khá đắt nhưng tôi vẫn đồng ý.'\n",
    "sent2 = 'Mình không nuôi chúng nó được.'\n",
    "sent3 = 'Nhà tôi ở trên tầng năm.'\n",
    "\n",
    "print(POS_tagger(sent1))\n",
    "print(POS_tagger(sent2))\n",
    "print(POS_tagger(sent3))"
   ]
  },
  {
   "cell_type": "markdown",
   "metadata": {
    "id": "Lldpwuo0xuoH"
   },
   "source": [
    "# II. Sử dụng thư viện CRF (Conditional Random Fields) để giải quyết bài toán"
   ]
  },
  {
   "cell_type": "code",
   "execution_count": 21,
   "metadata": {
    "id": "PrT7GKI2xovQ"
   },
   "outputs": [],
   "source": [
    "def CRF_POS_tagger(sentence):\n",
    "    word_segment = word_sent(sentence, format=\"text\")\n",
    "    list_word_tag = pos_tag(word_segment)\n",
    "    \n",
    "    result = ''\n",
    "    for w_t in list_word_tag:\n",
    "        result += w_t[0] + '/' + w_t[1] + ' '\n",
    "    return result"
   ]
  },
  {
   "cell_type": "code",
   "execution_count": 22,
   "metadata": {
    "colab": {
     "base_uri": "https://localhost:8080/"
    },
    "id": "b-V-oxp02c6y",
    "outputId": "46a9e7f6-2b6c-47f7-e5a5-23d3831d7111"
   },
   "outputs": [
    {
     "name": "stdout",
     "output_type": "stream",
     "text": [
      "Dù/C khá/R đắt/A nhưng/C tôi/P vẫn/R đồng_ý/V ./CH \n",
      "Mình/P không/R nuôi/V chúng_nó/V được/R ./CH \n",
      "Nhà_tôi/Np ở/E trên/E tầng/N năm/N ./CH \n"
     ]
    }
   ],
   "source": [
    "sent1 = 'Dù khá đắt nhưng tôi vẫn đồng ý.'\n",
    "sent2 = 'Mình không nuôi chúng nó được.'\n",
    "sent3 = 'Nhà tôi ở trên tầng năm.'\n",
    "\n",
    "print(CRF_POS_tagger(sent1))\n",
    "print(CRF_POS_tagger(sent2))\n",
    "print(CRF_POS_tagger(sent3))"
   ]
  }
 ],
 "metadata": {
  "colab": {
   "collapsed_sections": [],
   "name": "GiuaKy.ipynb",
   "provenance": [],
   "toc_visible": true
  },
  "kernelspec": {
   "display_name": "Python 3",
   "language": "python",
   "name": "python3"
  },
  "language_info": {
   "codemirror_mode": {
    "name": "ipython",
    "version": 3
   },
   "file_extension": ".py",
   "mimetype": "text/x-python",
   "name": "python",
   "nbconvert_exporter": "python",
   "pygments_lexer": "ipython3",
   "version": "3.6.3"
  }
 },
 "nbformat": 4,
 "nbformat_minor": 4
}
